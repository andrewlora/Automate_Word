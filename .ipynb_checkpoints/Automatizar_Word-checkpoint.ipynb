{
 "cells": [
  {
   "cell_type": "code",
   "execution_count": null,
   "id": "118bc426-dd2f-4b03-a0d4-4e7b7180d94f",
   "metadata": {},
   "outputs": [],
   "source": [
    "!pip install docxtpl -q"
   ]
  },
  {
   "cell_type": "code",
   "execution_count": 4,
   "id": "acdad232-a07b-4bca-bcf7-d144e5dffb66",
   "metadata": {},
   "outputs": [],
   "source": [
    "import pandas as pd\n",
    "from datetime import datetime\n",
    "from docxtpl import DocxTemplate"
   ]
  },
  {
   "cell_type": "code",
   "execution_count": 6,
   "id": "bb2db4c4-bdb1-46a7-baa5-d55acafd5b23",
   "metadata": {},
   "outputs": [],
   "source": [
    "doc = DocxTemplate(\"Plantilla.docx\")"
   ]
  },
  {
   "cell_type": "code",
   "execution_count": 8,
   "id": "9d007077-69c6-4fd2-92bb-25ab8e76c45f",
   "metadata": {},
   "outputs": [],
   "source": [
    "nombre = \"Jesus Andres Lora Camacho\"\n",
    "telefono = \"6671500252\"\n",
    "correo = \"jlora1983@gmail.com\"\n",
    "fecha = datetime.today().strftime(\"%d/%m/%Y\")"
   ]
  },
  {
   "cell_type": "code",
   "execution_count": 10,
   "id": "cb5865e6-5f5b-4267-aa04-fd80a5222e83",
   "metadata": {},
   "outputs": [
    {
     "name": "stdout",
     "output_type": "stream",
     "text": [
      "31/08/2024\n"
     ]
    }
   ],
   "source": [
    "print(fecha)"
   ]
  },
  {
   "cell_type": "code",
   "execution_count": 12,
   "id": "b547c5ee-5e62-467e-ba23-b30ba8cbc786",
   "metadata": {},
   "outputs": [],
   "source": [
    "constantes = {'nombre': nombre, 'telefono': telefono, 'correo': correo, 'fecha': fecha}"
   ]
  },
  {
   "cell_type": "code",
   "execution_count": 14,
   "id": "25075b20-a492-4c3e-8e4f-b69f587b2cd0",
   "metadata": {},
   "outputs": [
    {
     "name": "stdout",
     "output_type": "stream",
     "text": [
      "{'nombre': 'Jesus Andres Lora Camacho', 'telefono': '6671500252', 'correo': 'jlora1983@gmail.com', 'fecha': '31/08/2024'}\n"
     ]
    }
   ],
   "source": [
    "print(constantes)"
   ]
  },
  {
   "cell_type": "code",
   "execution_count": 16,
   "id": "c4137c7e-e3a9-4483-8d48-46c02dc49a7e",
   "metadata": {},
   "outputs": [],
   "source": [
    "doc.render(constantes)\n",
    "doc.save(f\"prueba.docx\")"
   ]
  },
  {
   "cell_type": "code",
   "execution_count": 20,
   "id": "54e48535-5b1b-4f6d-a1d4-320762980d6c",
   "metadata": {},
   "outputs": [],
   "source": [
    "df = pd.read_excel('Alumnos.xlsx')"
   ]
  },
  {
   "cell_type": "code",
   "execution_count": 22,
   "id": "6a26a214-0544-40f9-85c1-7f075cc46d47",
   "metadata": {},
   "outputs": [
    {
     "data": {
      "text/html": [
       "<div>\n",
       "<style scoped>\n",
       "    .dataframe tbody tr th:only-of-type {\n",
       "        vertical-align: middle;\n",
       "    }\n",
       "\n",
       "    .dataframe tbody tr th {\n",
       "        vertical-align: top;\n",
       "    }\n",
       "\n",
       "    .dataframe thead th {\n",
       "        text-align: right;\n",
       "    }\n",
       "</style>\n",
       "<table border=\"1\" class=\"dataframe\">\n",
       "  <thead>\n",
       "    <tr style=\"text-align: right;\">\n",
       "      <th></th>\n",
       "      <th>Nombre Alumno</th>\n",
       "      <th>Matematicas</th>\n",
       "      <th>Fisica</th>\n",
       "      <th>Quimica</th>\n",
       "      <th>Promedio</th>\n",
       "    </tr>\n",
       "  </thead>\n",
       "  <tbody>\n",
       "    <tr>\n",
       "      <th>0</th>\n",
       "      <td>Juan Perez</td>\n",
       "      <td>9</td>\n",
       "      <td>7</td>\n",
       "      <td>9</td>\n",
       "      <td>8.333333</td>\n",
       "    </tr>\n",
       "    <tr>\n",
       "      <th>1</th>\n",
       "      <td>Ana Soto</td>\n",
       "      <td>8</td>\n",
       "      <td>10</td>\n",
       "      <td>8</td>\n",
       "      <td>8.666667</td>\n",
       "    </tr>\n",
       "    <tr>\n",
       "      <th>2</th>\n",
       "      <td>Luis Rodriguez</td>\n",
       "      <td>9</td>\n",
       "      <td>10</td>\n",
       "      <td>10</td>\n",
       "      <td>9.666667</td>\n",
       "    </tr>\n",
       "    <tr>\n",
       "      <th>3</th>\n",
       "      <td>Maria Gonzales</td>\n",
       "      <td>7</td>\n",
       "      <td>10</td>\n",
       "      <td>9</td>\n",
       "      <td>8.666667</td>\n",
       "    </tr>\n",
       "    <tr>\n",
       "      <th>4</th>\n",
       "      <td>Carlos Ruiz</td>\n",
       "      <td>10</td>\n",
       "      <td>9</td>\n",
       "      <td>10</td>\n",
       "      <td>9.666667</td>\n",
       "    </tr>\n",
       "    <tr>\n",
       "      <th>5</th>\n",
       "      <td>Sofia Diaz</td>\n",
       "      <td>9</td>\n",
       "      <td>8</td>\n",
       "      <td>8</td>\n",
       "      <td>8.333333</td>\n",
       "    </tr>\n",
       "    <tr>\n",
       "      <th>6</th>\n",
       "      <td>Lucas Mendez</td>\n",
       "      <td>9</td>\n",
       "      <td>8</td>\n",
       "      <td>10</td>\n",
       "      <td>9.000000</td>\n",
       "    </tr>\n",
       "    <tr>\n",
       "      <th>7</th>\n",
       "      <td>Isabel Paredez</td>\n",
       "      <td>8</td>\n",
       "      <td>10</td>\n",
       "      <td>9</td>\n",
       "      <td>9.000000</td>\n",
       "    </tr>\n",
       "    <tr>\n",
       "      <th>8</th>\n",
       "      <td>Daniel Castillo</td>\n",
       "      <td>7</td>\n",
       "      <td>9</td>\n",
       "      <td>9</td>\n",
       "      <td>8.333333</td>\n",
       "    </tr>\n",
       "    <tr>\n",
       "      <th>9</th>\n",
       "      <td>Fernanda Herrera</td>\n",
       "      <td>10</td>\n",
       "      <td>9</td>\n",
       "      <td>9</td>\n",
       "      <td>9.333333</td>\n",
       "    </tr>\n",
       "  </tbody>\n",
       "</table>\n",
       "</div>"
      ],
      "text/plain": [
       "      Nombre Alumno  Matematicas  Fisica  Quimica  Promedio\n",
       "0        Juan Perez            9       7        9  8.333333\n",
       "1          Ana Soto            8      10        8  8.666667\n",
       "2    Luis Rodriguez            9      10       10  9.666667\n",
       "3    Maria Gonzales            7      10        9  8.666667\n",
       "4       Carlos Ruiz           10       9       10  9.666667\n",
       "5        Sofia Diaz            9       8        8  8.333333\n",
       "6      Lucas Mendez            9       8       10  9.000000\n",
       "7    Isabel Paredez            8      10        9  9.000000\n",
       "8   Daniel Castillo            7       9        9  8.333333\n",
       "9  Fernanda Herrera           10       9        9  9.333333"
      ]
     },
     "execution_count": 22,
     "metadata": {},
     "output_type": "execute_result"
    }
   ],
   "source": [
    "df"
   ]
  },
  {
   "cell_type": "code",
   "execution_count": 34,
   "id": "ec4ae9ae-25a6-4767-9536-46e2f228195e",
   "metadata": {},
   "outputs": [
    {
     "name": "stdout",
     "output_type": "stream",
     "text": [
      "{'nombre_alumno': 'Juan Perez', 'nota_mat': 9, 'nota_fisica': 7, 'nota_quimica': 9, 'promedio': 8.333333333, 'nombre': 'Jesus Andres Lora Camacho', 'telefono': '6671500252', 'correo': 'jlora1983@gmail.com', 'fecha': '31/08/2024'}\n",
      "{'nombre_alumno': 'Ana Soto', 'nota_mat': 8, 'nota_fisica': 10, 'nota_quimica': 8, 'promedio': 8.666666667, 'nombre': 'Jesus Andres Lora Camacho', 'telefono': '6671500252', 'correo': 'jlora1983@gmail.com', 'fecha': '31/08/2024'}\n",
      "{'nombre_alumno': 'Luis Rodriguez', 'nota_mat': 9, 'nota_fisica': 10, 'nota_quimica': 10, 'promedio': 9.666666667, 'nombre': 'Jesus Andres Lora Camacho', 'telefono': '6671500252', 'correo': 'jlora1983@gmail.com', 'fecha': '31/08/2024'}\n",
      "{'nombre_alumno': 'Maria Gonzales', 'nota_mat': 7, 'nota_fisica': 10, 'nota_quimica': 9, 'promedio': 8.666666667, 'nombre': 'Jesus Andres Lora Camacho', 'telefono': '6671500252', 'correo': 'jlora1983@gmail.com', 'fecha': '31/08/2024'}\n",
      "{'nombre_alumno': 'Carlos Ruiz', 'nota_mat': 10, 'nota_fisica': 9, 'nota_quimica': 10, 'promedio': 9.666666667, 'nombre': 'Jesus Andres Lora Camacho', 'telefono': '6671500252', 'correo': 'jlora1983@gmail.com', 'fecha': '31/08/2024'}\n",
      "{'nombre_alumno': 'Sofia Diaz', 'nota_mat': 9, 'nota_fisica': 8, 'nota_quimica': 8, 'promedio': 8.333333333, 'nombre': 'Jesus Andres Lora Camacho', 'telefono': '6671500252', 'correo': 'jlora1983@gmail.com', 'fecha': '31/08/2024'}\n",
      "{'nombre_alumno': 'Lucas Mendez', 'nota_mat': 9, 'nota_fisica': 8, 'nota_quimica': 10, 'promedio': 9.0, 'nombre': 'Jesus Andres Lora Camacho', 'telefono': '6671500252', 'correo': 'jlora1983@gmail.com', 'fecha': '31/08/2024'}\n",
      "{'nombre_alumno': 'Isabel Paredez', 'nota_mat': 8, 'nota_fisica': 10, 'nota_quimica': 9, 'promedio': 9.0, 'nombre': 'Jesus Andres Lora Camacho', 'telefono': '6671500252', 'correo': 'jlora1983@gmail.com', 'fecha': '31/08/2024'}\n",
      "{'nombre_alumno': 'Daniel Castillo', 'nota_mat': 7, 'nota_fisica': 9, 'nota_quimica': 9, 'promedio': 8.333333333, 'nombre': 'Jesus Andres Lora Camacho', 'telefono': '6671500252', 'correo': 'jlora1983@gmail.com', 'fecha': '31/08/2024'}\n",
      "{'nombre_alumno': 'Fernanda Herrera', 'nota_mat': 10, 'nota_fisica': 9, 'nota_quimica': 9, 'promedio': 9.333333333, 'nombre': 'Jesus Andres Lora Camacho', 'telefono': '6671500252', 'correo': 'jlora1983@gmail.com', 'fecha': '31/08/2024'}\n"
     ]
    }
   ],
   "source": [
    "for index, row in df.iterrows():\n",
    "    contenido = {\n",
    "        'nombre_alumno': row['Nombre Alumno'],\n",
    "        'nota_mat': row['Matematicas'],\n",
    "        'nota_fisica': row['Fisica'],\n",
    "        'nota_quimica': row['Quimica'],\n",
    "        'promedio': row['Promedio'],\n",
    "    }\n",
    "    contenido.update(constantes)\n",
    "    doc.render(contenido)\n",
    "    doc.save(f\"notas_de_{row['Nombre Alumno']}.docx\")\n",
    "    print(contenido)"
   ]
  },
  {
   "cell_type": "code",
   "execution_count": null,
   "id": "b4315436-2cb6-4ce4-951e-04f32ce7d42c",
   "metadata": {},
   "outputs": [],
   "source": []
  }
 ],
 "metadata": {
  "kernelspec": {
   "display_name": "Python 3 (ipykernel)",
   "language": "python",
   "name": "python3"
  },
  "language_info": {
   "codemirror_mode": {
    "name": "ipython",
    "version": 3
   },
   "file_extension": ".py",
   "mimetype": "text/x-python",
   "name": "python",
   "nbconvert_exporter": "python",
   "pygments_lexer": "ipython3",
   "version": "3.12.4"
  }
 },
 "nbformat": 4,
 "nbformat_minor": 5
}
